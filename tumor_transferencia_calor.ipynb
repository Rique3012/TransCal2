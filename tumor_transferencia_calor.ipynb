{
  "cells": [
    {
      "cell_type": "markdown",
      "metadata": {
        "id": "view-in-github",
        "colab_type": "text"
      },
      "source": [
        "<a href=\"https://colab.research.google.com/github/Rique3012/TransCal2/blob/main/tumor_transferencia_calor.ipynb\" target=\"_parent\"><img src=\"https://colab.research.google.com/assets/colab-badge.svg\" alt=\"Open In Colab\"/></a>"
      ]
    },
    {
      "cell_type": "markdown",
      "source": [
        "# Regime Transiente"
      ],
      "metadata": {
        "id": "rRfgFchqt3xw"
      }
    },
    {
      "cell_type": "markdown",
      "source": [
        "//TR Fixo"
      ],
      "metadata": {
        "id": "v2r6jCNmmXWm"
      }
    },
    {
      "cell_type": "code",
      "source": [
        "import numpy as np\n",
        "import matplotlib.pyplot as plt\n",
        "import matplotlib.animation as animation\n",
        "import matplotlib.cm as cm\n",
        "\n",
        "# Configurações da simulação\n",
        "T0 = 20                             # Temperatura inicial\n",
        "S = 1000                            # Taxa de geração interna de calor\n",
        "R = 1.1                             # Raio do fio\n",
        "K = 0.5                             # Coeficiente de condução térmica do fio\n",
        "KI = 0.5 * 100                      # Coeficiente de condução térmica do isolante\n",
        "alfa = 4\n",
        "alfaI = 4 * 0.1                     # Difusividade térmica\n",
        "num_points = 200                    # Número de pontos no diâmetro do fio\n",
        "dr = R / (num_points)               # Passo de raio\n",
        "dt = 0.5 * (dr**2) /(4 * alfa)      # Passo de tempo\n",
        "beta = alfa * dt / (dr**2)          # Parâmetro beta\n",
        "betaI = alfaI * dt / (dr**2)        # Parâmetro beta do isolante\n",
        "tempo = 37000 * dt\n",
        "nsteps = int(tempo / dt)\n",
        "\n",
        "# Inicialização do array de temperatura\n",
        "u = T0 * np.ones(num_points)\n",
        "\n",
        "# Gerar dados\n",
        "theta = np.linspace(0, 2 * np.pi, num_points)\n",
        "r = np.linspace(0, R, num_points)\n",
        "\n",
        "# Criar um grid polar\n",
        "r, theta = np.meshgrid(r, theta)\n",
        "\n",
        "# Cria um tensor de shape = (num_points,num_points,nsteps) para armazenar\n",
        "# todas as informações da simulação\n",
        "T = np.tile(u,(num_points,1))\n",
        "T_tensor =T.copy().reshape((num_points,num_points,1))\n",
        "\n",
        "tempo_array = np.linspace(0, tempo, nsteps-1)\n",
        "tempo_tensor = tempo_array.copy().reshape((1,1,nsteps-1))\n",
        "\n",
        "tempo_tensor_broadcasted = np.broadcast_to(tempo_tensor, (T_tensor.shape[0], T_tensor.shape[1], tempo_tensor.shape[2]))\n",
        "\n",
        "mapa_temporal = np.concatenate((T_tensor, tempo_tensor_broadcasted), axis=-1)\n",
        "print(mapa_temporal.shape)\n",
        "\n",
        "# Simulação\n",
        "for k in range(len(tempo_array)):\n",
        "  u0 = u.copy()\n",
        "\n",
        "  u[0] = (1 - 4*beta) * u0[0] + 4*beta * u0[1] + (alfa * dt)/K * S\n",
        "\n",
        "  for i in range(1, num_points - 1):\n",
        "    raio = i * dr\n",
        "    if raio < 1:\n",
        "      u[i] = (beta - beta/(2*i)) * u0[i-1] + (1 - 2*beta) * u0[i] + (beta + beta/(2*i)) * u0[i+1] + (alfa * dt)/K * S\n",
        "    else:\n",
        "      u[i] = (betaI - betaI/(2*i)) * u0[i-1] + (1 - 2*betaI) * u0[i] + (betaI + betaI/(2*i)) * u0[i+1] + (alfaI * dt)/KI\n",
        "\n",
        "    #raio += dr\n",
        "\n",
        "    #T = np.tile(u,(num_points,1))\n",
        "    mapa_temporal[:, :, k] = np.tile(u, (num_points, 1))\n",
        "    #mapa_temporal[i,:,k] = u[i]\n",
        "\n",
        "  #print(f\"Temperatura média: {np.average(u)}ºC\")\n",
        "\n",
        "# Seleciona os frames a serem animados\n",
        "movie_frames = mapa_temporal[:,:,0::50]   #200 frames animados\n",
        "\n",
        "# Visualização\n",
        "fig, ax = plt.subplots(subplot_kw={'projection': 'polar'})\n",
        "pcm = ax.pcolormesh(theta,r, movie_frames[:,:,0], cmap ='jet', vmin = T0, vmax = np.max(u))\n",
        "plt.colorbar(pcm, ax=ax, label='Temperatura (T)')\n",
        "ax.set_title('Distribuição de Temperatura em um Cilindro')\n",
        "#pcm = ax.pcolormesh(T, cmap=plt.cm.jet, vmin=20, vmax=80)\n",
        "\n",
        "#Define the initialization function for the animation.  In this case, the function returns the first frame\n",
        "#of the movie animation.\n",
        "def init():\n",
        "    pcm.set_array(movie_frames[:,:,0].ravel())\n",
        "    return pcm,\n",
        "\n",
        "#Define the animation update function.  In this function, each map image will be updated with the current frame.\n",
        "def animate(i):\n",
        "    pcm.set_array(movie_frames[:,:,i].ravel())\n",
        "    return pcm,\n",
        "\n",
        "# 200 frames = 10 s * x frames por segundo\n",
        "# x = 20 frames por segundo // intervalo = 50 ms\n",
        "\n",
        "#Call the full animation function.  The number of frames is given by the last element of the shape tuple of\n",
        "#of the movie frames array.  The time interval between each frame is 50 ms, which will show the animated movie\n",
        "#at 20 fps\n",
        "anim = animation.FuncAnimation(fig, animate, init_func = init, frames = movie_frames.shape[2], interval = 50)\n",
        "\n",
        "#Save the animation as an avi movie file.\n",
        "anim.save('heatmap_insulated_animation.gif')\n",
        "\n",
        "#Display the resulting animated heat map, which shows temperature changes in the plate over time as it cools down.\n",
        "plt.show()"
      ],
      "metadata": {
        "colab": {
          "base_uri": "https://localhost:8080/",
          "height": 238
        },
        "id": "mmxqJzxdfbqk",
        "outputId": "f7d28104-74b2-4e9e-97f4-eb3faf1423e8"
      },
      "execution_count": null,
      "outputs": [
        {
          "output_type": "stream",
          "name": "stdout",
          "text": [
            "(200, 200, 37000)\n"
          ]
        },
        {
          "output_type": "error",
          "ename": "KeyboardInterrupt",
          "evalue": "",
          "traceback": [
            "\u001b[0;31m---------------------------------------------------------------------------\u001b[0m",
            "\u001b[0;31mKeyboardInterrupt\u001b[0m                         Traceback (most recent call last)",
            "\u001b[0;32m<ipython-input-1-22c2a2eb87bb>\u001b[0m in \u001b[0;36m<cell line: 46>\u001b[0;34m()\u001b[0m\n\u001b[1;32m     59\u001b[0m \u001b[0;34m\u001b[0m\u001b[0m\n\u001b[1;32m     60\u001b[0m     \u001b[0;31m#T = np.tile(u,(num_points,1))\u001b[0m\u001b[0;34m\u001b[0m\u001b[0;34m\u001b[0m\u001b[0m\n\u001b[0;32m---> 61\u001b[0;31m     \u001b[0mmapa_temporal\u001b[0m\u001b[0;34m[\u001b[0m\u001b[0;34m:\u001b[0m\u001b[0;34m,\u001b[0m \u001b[0;34m:\u001b[0m\u001b[0;34m,\u001b[0m \u001b[0mk\u001b[0m\u001b[0;34m]\u001b[0m \u001b[0;34m=\u001b[0m \u001b[0mnp\u001b[0m\u001b[0;34m.\u001b[0m\u001b[0mtile\u001b[0m\u001b[0;34m(\u001b[0m\u001b[0mu\u001b[0m\u001b[0;34m,\u001b[0m \u001b[0;34m(\u001b[0m\u001b[0mnum_points\u001b[0m\u001b[0;34m,\u001b[0m \u001b[0;36m1\u001b[0m\u001b[0;34m)\u001b[0m\u001b[0;34m)\u001b[0m\u001b[0;34m\u001b[0m\u001b[0;34m\u001b[0m\u001b[0m\n\u001b[0m\u001b[1;32m     62\u001b[0m     \u001b[0;31m#mapa_temporal[i,:,k] = u[i]\u001b[0m\u001b[0;34m\u001b[0m\u001b[0;34m\u001b[0m\u001b[0m\n\u001b[1;32m     63\u001b[0m \u001b[0;34m\u001b[0m\u001b[0m\n",
            "\u001b[0;31mKeyboardInterrupt\u001b[0m: "
          ]
        }
      ]
    },
    {
      "cell_type": "markdown",
      "source": [
        "GPT DEBUG\n"
      ],
      "metadata": {
        "id": "u5lemecCvxZa"
      }
    },
    {
      "cell_type": "code",
      "source": [
        "import numpy as np\n",
        "import matplotlib.pyplot as plt\n",
        "import matplotlib.cm as cm\n",
        "\n",
        "# Propriedades biofísicas (legenda: tumor, epidermis, papillary, reticular, subcutaneos, muscle)\n",
        "ro = np.array([1030, 1200, 1200, 1200, 1000, 1085])  # Densidade [kg/m^3]\n",
        "c = np.array([3852, 3589, 3300, 3300, 2674, 3800])    # Calor específico [J/(kg.K)]\n",
        "k = np.array([0.558, 0.235, 0.445, 0.445, 0.185, 0.51])  # Condutividade térmica [W/(m.K)]\n",
        "alfa = k / (ro * c)  # Difusividade térmica\n",
        "omega = np.array([0.0063, 0, 0.0002, 0.0013, 0.0001, 0.0027])  # Perfusão sanguínea\n",
        "Q_bas = np.array([3700, 0, 368.1, 368.1, 368.3, 684.2])  # Taxa metabólica basal [W/m^3]\n",
        "q = np.array([1.1, 2, 2, 2, 2, 2])  # Fator de ajuste metabólico\n",
        "\n",
        "# Temperaturas fixas\n",
        "ta = 37  # Temperatura arterial [°C]\n",
        "te = 25  # Temperatura externa [°C]\n",
        "\n",
        "# Funções para cálculo de Q e w\n",
        "def calc_Q(T, Q_bas, q):\n",
        "    \"\"\"Cálculo da taxa metabólica ajustada\"\"\"\n",
        "    return Q_bas * q ** ((T - ta) / 10)\n",
        "\n",
        "def calc_w(T, omega, q):\n",
        "    \"\"\"Cálculo da perfusão sanguínea ajustada\"\"\"\n",
        "    return omega * q ** ((T - ta) / 10)\n",
        "\n",
        "# Calcula os valores iniciais para w e Q\n",
        "w = calc_w(ta, omega, q)\n",
        "Q = calc_Q(ta, Q_bas, q)\n",
        "\n",
        "# Configuração para o Método das Diferenças Finitas (FDM)\n",
        "T0 = 25  # Temperatura inicial da superfície da pele [°C]\n",
        "H_milimeter = 12  # Profundidade da pele [mm]\n",
        "H = H_milimeter * 10**-3  # Profundidade da pele [m]\n",
        "dx = 0.000001  # Passo espacial [m]\n",
        "num_points = int(H / dx)  # Número de pontos na malha espacial\n",
        "dt = 0.5 * (dx**2) / np.max(alfa)  # Passo temporal [s]\n",
        "\n",
        "# Limitação para evitar problemas de memória\n",
        "tempo = 1800  # Tempo total de simulação [s]\n",
        "nsteps = min(int(tempo / dt), 10000)  # Número de passos de tempo\n",
        "\n",
        "# Inicialização do array de temperatura\n",
        "u = T0 * np.ones(num_points)  # Temperatura inicial em todos os pontos\n",
        "u[-1] = ta  # Condição de contorno na última posição (temperatura arterial)\n",
        "\n",
        "# Criação da grade para visualização\n",
        "x = np.linspace(0, H, num_points)\n",
        "y = np.linspace(0, 0.004, 5)  # Garantir que y tenha dimensões compatíveis com os dados\n",
        "x, y = np.meshgrid(x, y)\n",
        "\n",
        "# Criar tensor de temperatura\n",
        "# T = np.tile(u, (5, 1))  # Ajustar para (5, num_points)\n",
        "# T_tensor = T.copy().reshape((5, num_points, 1))\n",
        "\n",
        "T = np.tile(u, (num_points,5))  # Ajustar para (5, num_points)\n",
        "T_tensor = T.copy().reshape((num_points, 5, 1))\n",
        "\n",
        "# Criar tensor de tempo\n",
        "tempo_array = np.linspace(0, tempo, nsteps - 1)\n",
        "tempo_tensor = tempo_array.copy().reshape((1, 1, nsteps - 1))\n",
        "tempo_tensor_broadcasted = np.broadcast_to(tempo_tensor, (T_tensor.shape[0], T_tensor.shape[1], tempo_tensor.shape[2]))\n",
        "\n",
        "# Combinar temperatura e tempo em um mapa temporal\n",
        "mapa_temporal = np.concatenate((T_tensor, tempo_tensor_broadcasted), axis=-1)\n",
        "\n",
        "# Verificar dimensões\n",
        "print(f\"Dimensão de T_tensor: {T_tensor.shape}\")\n",
        "print(f\"Dimensão de mapa_temporal: {mapa_temporal.shape}\")\n",
        "\n",
        "# Visualização do campo de temperatura inicial\n",
        "fig, ax = plt.subplots()\n",
        "pcm = ax.pcolormesh(x, y, T_tensor[:, :, 0], cmap='jet', vmin=T0, vmax=np.max(u))\n",
        "fig.colorbar(pcm, ax=ax, label='Temperatura (°C)')\n",
        "ax.set_title('Distribuição Inicial de Temperatura na Pele')\n",
        "plt.xlabel('Profundidade (m)')\n",
        "plt.ylabel('Posição transversal (m)')\n",
        "plt.show()\n"
      ],
      "metadata": {
        "colab": {
          "base_uri": "https://localhost:8080/",
          "height": 219
        },
        "id": "U1w2vyPrvrOY",
        "outputId": "38258d87-83b2-47d2-eea8-7edb73311288"
      },
      "execution_count": null,
      "outputs": [
        {
          "output_type": "error",
          "ename": "ValueError",
          "evalue": "cannot reshape array of size 720000000 into shape (12000,5,1)",
          "traceback": [
            "\u001b[0;31m---------------------------------------------------------------------------\u001b[0m",
            "\u001b[0;31mValueError\u001b[0m                                Traceback (most recent call last)",
            "\u001b[0;32m<ipython-input-3-756f59fcce4f>\u001b[0m in \u001b[0;36m<cell line: 57>\u001b[0;34m()\u001b[0m\n\u001b[1;32m     55\u001b[0m \u001b[0;34m\u001b[0m\u001b[0m\n\u001b[1;32m     56\u001b[0m \u001b[0mT\u001b[0m \u001b[0;34m=\u001b[0m \u001b[0mnp\u001b[0m\u001b[0;34m.\u001b[0m\u001b[0mtile\u001b[0m\u001b[0;34m(\u001b[0m\u001b[0mu\u001b[0m\u001b[0;34m,\u001b[0m \u001b[0;34m(\u001b[0m\u001b[0mnum_points\u001b[0m\u001b[0;34m,\u001b[0m\u001b[0;36m5\u001b[0m\u001b[0;34m)\u001b[0m\u001b[0;34m)\u001b[0m  \u001b[0;31m# Ajustar para (5, num_points)\u001b[0m\u001b[0;34m\u001b[0m\u001b[0;34m\u001b[0m\u001b[0m\n\u001b[0;32m---> 57\u001b[0;31m \u001b[0mT_tensor\u001b[0m \u001b[0;34m=\u001b[0m \u001b[0mT\u001b[0m\u001b[0;34m.\u001b[0m\u001b[0mcopy\u001b[0m\u001b[0;34m(\u001b[0m\u001b[0;34m)\u001b[0m\u001b[0;34m.\u001b[0m\u001b[0mreshape\u001b[0m\u001b[0;34m(\u001b[0m\u001b[0;34m(\u001b[0m\u001b[0mnum_points\u001b[0m\u001b[0;34m,\u001b[0m \u001b[0;36m5\u001b[0m\u001b[0;34m,\u001b[0m \u001b[0;36m1\u001b[0m\u001b[0;34m)\u001b[0m\u001b[0;34m)\u001b[0m\u001b[0;34m\u001b[0m\u001b[0;34m\u001b[0m\u001b[0m\n\u001b[0m\u001b[1;32m     58\u001b[0m \u001b[0;34m\u001b[0m\u001b[0m\n\u001b[1;32m     59\u001b[0m \u001b[0;31m# Criar tensor de tempo\u001b[0m\u001b[0;34m\u001b[0m\u001b[0;34m\u001b[0m\u001b[0m\n",
            "\u001b[0;31mValueError\u001b[0m: cannot reshape array of size 720000000 into shape (12000,5,1)"
          ]
        }
      ]
    },
    {
      "cell_type": "markdown",
      "source": [
        "v2"
      ],
      "metadata": {
        "id": "4THtGeQS27a1"
      }
    },
    {
      "cell_type": "code",
      "source": [
        "import numpy as np\n",
        "import matplotlib.pyplot as plt\n",
        "import matplotlib.cm as cm\n",
        "\n",
        "# Propriedades biofísicas (legenda: tumor, epidermis, papillary, reticular, subcutaneos, muscle)\n",
        "ro = np.array([1030, 1200, 1200, 1200, 1000, 1085])  # Densidade [kg/m^3]\n",
        "c = np.array([3852, 3589, 3300, 3300, 2674, 3800])    # Calor específico [J/(kg.K)]\n",
        "k = np.array([0.558, 0.235, 0.445, 0.445, 0.185, 0.51])  # Condutividade térmica [W/(m.K)]\n",
        "alfa = k / (ro * c)  # Difusividade térmica\n",
        "omega = np.array([0.0063, 0, 0.0002, 0.0013, 0.0001, 0.0027])  # Perfusão sanguínea\n",
        "Q_bas = np.array([3700, 0, 368.1, 368.1, 368.3, 684.2])  # Taxa metabólica basal [W/m^3]\n",
        "q = np.array([1.1, 2, 2, 2, 2, 2])  # Fator de ajuste metabólico\n",
        "\n",
        "# Defina a ordem das camadas\n",
        "camadas = [1, 2, 3, 4, 5, 0, 5]  # Ordem: Epidermis, papillary, reticular, subcutanea, muscular, tumor, muscular\n",
        "\n",
        "# Espessuras das camadas correspondentes [m]\n",
        "H_layers = np.array([0.001, 0.007, 0.008, 0.02, 0.04, 0.0045, 0.04])  # Espessuras em ordem personalizada\n",
        "H_layers = H_layers[np.array(camadas)]  # Reordena as espessuras\n",
        "\n",
        "# Reorganiza as propriedades com base na ordem das camadas\n",
        "ro = ro[camadas]\n",
        "c = c[camadas]\n",
        "k = k[camadas]\n",
        "omega = omega[camadas]\n",
        "Q_bas = Q_bas[camadas]\n",
        "q = q[camadas]\n",
        "\n",
        "# Temperaturas fixas\n",
        "ta = 37  # Temperatura arterial [°C]\n",
        "te = 25  # Temperatura externa [°C]\n",
        "\n",
        "# Funções para cálculo de Q e w\n",
        "def calc_Q(T, Q_bas, q):\n",
        "    \"\"\"Cálculo da taxa metabólica ajustada\"\"\"\n",
        "    return Q_bas * q ** ((T - ta) / 10)\n",
        "\n",
        "def calc_w(T, omega, q):\n",
        "    \"\"\"Cálculo da perfusão sanguínea ajustada\"\"\"\n",
        "    return omega * q ** ((T - ta) / 10)\n",
        "\n",
        "# Calcula os valores iniciais para w e Q\n",
        "w = calc_w(ta, omega, q)\n",
        "Q = calc_Q(ta, Q_bas, q)\n",
        "\n",
        "# Configuração para o Método das Diferenças Finitas (FDM)\n",
        "H_total = np.sum(H_layers)  # Profundidade total [m]\n",
        "dx = 0.00001  # Passo espacial [m]\n",
        "num_points_per_layer = (H_layers / dx).astype(int)  # Pontos por camada\n",
        "num_points = np.sum(num_points_per_layer)  # Total de pontos\n",
        "\n",
        "dt = 0.5 * (dx**2) / np.max(alfa)  # Passo temporal [s]\n",
        "\n",
        "# Limitação para evitar problemas de memória\n",
        "tempo = 300  # Tempo total de simulação [s]\n",
        "nsteps = min(int(tempo / dt), 1000000)  # Número de passos de tempo\n",
        "\n",
        "# Inicialização do array de temperatura\n",
        "u = ta * np.ones(num_points)  # Temperatura inicial\n",
        "u[-1] = ta  # Condição de contorno\n",
        "\n",
        "# Função para determinar a camada com base no índice do ponto\n",
        "def identificar_camada(indice, num_points_per_layer):\n",
        "    acumulado = 0\n",
        "    for i, pontos in enumerate(num_points_per_layer):\n",
        "        acumulado += pontos\n",
        "        if indice < acumulado:\n",
        "            return i\n",
        "    return len(num_points_per_layer) - 1\n",
        "\n",
        "# Criação da grade para visualização\n",
        "x = np.linspace(0, H_total, num_points)\n",
        "y = np.linspace(0, 0.004, 5)\n",
        "x, y = np.meshgrid(y, x)\n",
        "\n",
        "# Criar tensor de temperatura\n",
        "T = np.tile(u, (5, 1))  # Ajustar para (5, num_points)\n",
        "T_tensor = T.copy().reshape((num_points,5, 1))\n",
        "\n",
        "# Criar tensor de tempo\n",
        "tempo_array = np.linspace(0, tempo, nsteps - 1)\n",
        "tempo_tensor = tempo_array.copy().reshape((1, 1, nsteps - 1))\n",
        "tempo_tensor_broadcasted = np.broadcast_to(tempo_tensor, (T_tensor.shape[0], T_tensor.shape[1], tempo_tensor.shape[2]))\n",
        "\n",
        "# Combinar temperatura e tempo em um mapa temporal\n",
        "mapa_temporal = np.concatenate((T_tensor, tempo_tensor_broadcasted), axis=-1)\n",
        "\n",
        "# Verificar dimensões\n",
        "print(f\"Dimensão de T_tensor: {T_tensor.shape}\")\n",
        "print(f\"Dimensão de mapa_temporal: {mapa_temporal.shape}\")\n",
        "\n",
        "# Simulação\n",
        "for k in range(len(tempo_array)):\n",
        "  u0 = u.copy()\n",
        "\n",
        "  u[0] = (1 - 4*beta) * u0[0] + 4*beta * u0[1] + (alfa * dt)/K * S\n",
        "\n",
        "  for i in range(1, num_points - 1):\n",
        "    raio = i * dr\n",
        "    if raio < 1:\n",
        "      u[i] = (beta - beta/(2*i)) * u0[i-1] + (1 - 2*beta) * u0[i] + (beta + beta/(2*i)) * u0[i+1] + (alfa * dt)/K * S\n",
        "    else:\n",
        "      u[i] = (betaI - betaI/(2*i)) * u0[i-1] + (1 - 2*betaI) * u0[i] + (betaI + betaI/(2*i)) * u0[i+1] + (alfaI * dt)/KI\n",
        "\n",
        "    #raio += dr\n",
        "\n",
        "    #T = np.tile(u,(num_points,1))\n",
        "    mapa_temporal[:, :, k] = np.tile(u, (num_points, 1))\n",
        "    #mapa_temporal[i,:,k] = u[i]\n",
        "\n",
        "  #print(f\"Temperatura média: {np.average(u)}ºC\")\n",
        "\n",
        "# Seleciona os frames a serem animados\n",
        "movie_frames = mapa_temporal[:,:,0::50]   #200 frames animados\n",
        "\n",
        "# Visualização do campo de temperatura inicial\n",
        "fig, ax = plt.subplots()\n",
        "pcm = ax.pcolormesh(x, y, T_tensor[:, :, 0], cmap='jet', vmin=ta, vmax=np.max(u))\n",
        "fig.colorbar(pcm, ax=ax, label='Temperatura (°C)')\n",
        "ax.set_title('Distribuição Inicial de Temperatura na Pele')\n",
        "plt.xlabel('Profundidade (m)')\n",
        "plt.ylabel('Posição transversal (m)')\n",
        "plt.show()\n"
      ],
      "metadata": {
        "colab": {
          "base_uri": "https://localhost:8080/",
          "height": 508
        },
        "id": "mkBq23d02_QP",
        "outputId": "4f52f355-0e25-42e7-e0af-8f6ca295311c"
      },
      "execution_count": null,
      "outputs": [
        {
          "output_type": "stream",
          "name": "stdout",
          "text": [
            "Dimensão de T_tensor: (8496, 5, 1)\n",
            "Dimensão de mapa_temporal: (8496, 5, 843843)\n"
          ]
        },
        {
          "output_type": "display_data",
          "data": {
            "text/plain": [
              "<Figure size 640x480 with 2 Axes>"
            ],
            "image/png": "[encoded data removed]"
          },
          "metadata": {}
        }
      ]
    }
  ],
  "metadata": {
    "colab": {
      "provenance": [],
      "gpuType": "V28",
      "include_colab_link": true
    },
    "kernelspec": {
      "display_name": "Python 3",
      "name": "python3"
    },
    "accelerator": "TPU"
  },
  "nbformat": 4,
  "nbformat_minor": 0
}